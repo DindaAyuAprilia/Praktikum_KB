{
  "nbformat": 4,
  "nbformat_minor": 0,
  "metadata": {
    "colab": {
      "provenance": [],
      "gpuType": "V28"
    },
    "kernelspec": {
      "name": "python3",
      "display_name": "Python 3"
    },
    "language_info": {
      "name": "python"
    },
    "accelerator": "TPU"
  },
  "cells": [
    {
      "cell_type": "markdown",
      "source": [
        "# POSTTEST 5"
      ],
      "metadata": {
        "id": "0E3_4wJJKhs9"
      }
    },
    {
      "cell_type": "markdown",
      "source": [
        "## Import Library yang Dibutuhkan:"
      ],
      "metadata": {
        "id": "erj4bNmzKoST"
      }
    },
    {
      "cell_type": "code",
      "source": [
        "import pandas as pd\n",
        "import numpy as np\n",
        "from sklearn.model_selection import train_test_split\n",
        "from sklearn.preprocessing import LabelEncoder, StandardScaler\n",
        "import tensorflow as tf\n",
        "from tensorflow.keras.models import Sequential\n",
        "from tensorflow.keras.layers import Dense"
      ],
      "metadata": {
        "id": "PVOCQcnxKl3V"
      },
      "execution_count": 3,
      "outputs": []
    },
    {
      "cell_type": "markdown",
      "source": [
        "* pandas dan numpy digunakan untuk manipulasi dan analisis data.\n",
        "* train_test_split digunakan untuk membagi data menjadi set pelatihan dan pengujian.\n",
        "* tensorflow dan keras untuk membangun model neural network."
      ],
      "metadata": {
        "id": "hqiEv79OKvlG"
      }
    },
    {
      "cell_type": "markdown",
      "source": [
        "## Memuat data"
      ],
      "metadata": {
        "id": "hzA466EVK6jF"
      }
    },
    {
      "cell_type": "code",
      "execution_count": 21,
      "metadata": {
        "colab": {
          "base_uri": "https://localhost:8080/",
          "height": 417
        },
        "id": "awNubfpRKGh7",
        "outputId": "5ad38b75-9703-4d48-830a-999d7ea4eeca"
      },
      "outputs": [
        {
          "output_type": "execute_result",
          "data": {
            "text/plain": [
              "        ID  Gender  Has a car  Has a property  Children count    Income  \\\n",
              "0  5091261       0          0               1               0  202500.0   \n",
              "1  5096963       1          1               0               0  675000.0   \n",
              "2  5087880       0          0               0               0  234000.0   \n",
              "3  5021949       0          1               1               0  445500.0   \n",
              "4  5105705       0          1               0               0  225000.0   \n",
              "\n",
              "      Employment status                Education level  Marital status  \\\n",
              "0         State servant  Secondary / secondary special       Separated   \n",
              "1  Commercial associate               Higher education         Married   \n",
              "2         State servant               Higher education  Civil marriage   \n",
              "3  Commercial associate               Higher education         Married   \n",
              "4               Working  Secondary / secondary special         Married   \n",
              "\n",
              "              Dwelling  Has a mobile phone  Has a work phone  Has a phone  \\\n",
              "0    House / apartment                   1                 0            0   \n",
              "1    House / apartment                   1                 0            1   \n",
              "2    House / apartment                   1                 0            0   \n",
              "3    House / apartment                   1                 0            0   \n",
              "4  Municipal apartment                   1                 0            0   \n",
              "\n",
              "   Has an email  Family member count  Is high risk  Employment_status_encoded  \\\n",
              "0             0                    1             0                          1   \n",
              "1             0                    2             0                          2   \n",
              "2             1                    2             0                          1   \n",
              "3             0                    2             0                          2   \n",
              "4             0                    2             0                          3   \n",
              "\n",
              "   Education_level_encoded  Marital_status_encoded  Dwelling_encoded  \n",
              "0                        1                       1                 1  \n",
              "1                        2                       2                 1  \n",
              "2                        2                       3                 1  \n",
              "3                        2                       2                 1  \n",
              "4                        1                       2                 2  "
            ],
            "text/html": [
              "\n",
              "  <div id=\"df-59db4b2c-29b8-4fbc-b90b-64798ab95ffd\" class=\"colab-df-container\">\n",
              "    <div>\n",
              "<style scoped>\n",
              "    .dataframe tbody tr th:only-of-type {\n",
              "        vertical-align: middle;\n",
              "    }\n",
              "\n",
              "    .dataframe tbody tr th {\n",
              "        vertical-align: top;\n",
              "    }\n",
              "\n",
              "    .dataframe thead th {\n",
              "        text-align: right;\n",
              "    }\n",
              "</style>\n",
              "<table border=\"1\" class=\"dataframe\">\n",
              "  <thead>\n",
              "    <tr style=\"text-align: right;\">\n",
              "      <th></th>\n",
              "      <th>ID</th>\n",
              "      <th>Gender</th>\n",
              "      <th>Has a car</th>\n",
              "      <th>Has a property</th>\n",
              "      <th>Children count</th>\n",
              "      <th>Income</th>\n",
              "      <th>Employment status</th>\n",
              "      <th>Education level</th>\n",
              "      <th>Marital status</th>\n",
              "      <th>Dwelling</th>\n",
              "      <th>Has a mobile phone</th>\n",
              "      <th>Has a work phone</th>\n",
              "      <th>Has a phone</th>\n",
              "      <th>Has an email</th>\n",
              "      <th>Family member count</th>\n",
              "      <th>Is high risk</th>\n",
              "      <th>Employment_status_encoded</th>\n",
              "      <th>Education_level_encoded</th>\n",
              "      <th>Marital_status_encoded</th>\n",
              "      <th>Dwelling_encoded</th>\n",
              "    </tr>\n",
              "  </thead>\n",
              "  <tbody>\n",
              "    <tr>\n",
              "      <th>0</th>\n",
              "      <td>5091261</td>\n",
              "      <td>0</td>\n",
              "      <td>0</td>\n",
              "      <td>1</td>\n",
              "      <td>0</td>\n",
              "      <td>202500.0</td>\n",
              "      <td>State servant</td>\n",
              "      <td>Secondary / secondary special</td>\n",
              "      <td>Separated</td>\n",
              "      <td>House / apartment</td>\n",
              "      <td>1</td>\n",
              "      <td>0</td>\n",
              "      <td>0</td>\n",
              "      <td>0</td>\n",
              "      <td>1</td>\n",
              "      <td>0</td>\n",
              "      <td>1</td>\n",
              "      <td>1</td>\n",
              "      <td>1</td>\n",
              "      <td>1</td>\n",
              "    </tr>\n",
              "    <tr>\n",
              "      <th>1</th>\n",
              "      <td>5096963</td>\n",
              "      <td>1</td>\n",
              "      <td>1</td>\n",
              "      <td>0</td>\n",
              "      <td>0</td>\n",
              "      <td>675000.0</td>\n",
              "      <td>Commercial associate</td>\n",
              "      <td>Higher education</td>\n",
              "      <td>Married</td>\n",
              "      <td>House / apartment</td>\n",
              "      <td>1</td>\n",
              "      <td>0</td>\n",
              "      <td>1</td>\n",
              "      <td>0</td>\n",
              "      <td>2</td>\n",
              "      <td>0</td>\n",
              "      <td>2</td>\n",
              "      <td>2</td>\n",
              "      <td>2</td>\n",
              "      <td>1</td>\n",
              "    </tr>\n",
              "    <tr>\n",
              "      <th>2</th>\n",
              "      <td>5087880</td>\n",
              "      <td>0</td>\n",
              "      <td>0</td>\n",
              "      <td>0</td>\n",
              "      <td>0</td>\n",
              "      <td>234000.0</td>\n",
              "      <td>State servant</td>\n",
              "      <td>Higher education</td>\n",
              "      <td>Civil marriage</td>\n",
              "      <td>House / apartment</td>\n",
              "      <td>1</td>\n",
              "      <td>0</td>\n",
              "      <td>0</td>\n",
              "      <td>1</td>\n",
              "      <td>2</td>\n",
              "      <td>0</td>\n",
              "      <td>1</td>\n",
              "      <td>2</td>\n",
              "      <td>3</td>\n",
              "      <td>1</td>\n",
              "    </tr>\n",
              "    <tr>\n",
              "      <th>3</th>\n",
              "      <td>5021949</td>\n",
              "      <td>0</td>\n",
              "      <td>1</td>\n",
              "      <td>1</td>\n",
              "      <td>0</td>\n",
              "      <td>445500.0</td>\n",
              "      <td>Commercial associate</td>\n",
              "      <td>Higher education</td>\n",
              "      <td>Married</td>\n",
              "      <td>House / apartment</td>\n",
              "      <td>1</td>\n",
              "      <td>0</td>\n",
              "      <td>0</td>\n",
              "      <td>0</td>\n",
              "      <td>2</td>\n",
              "      <td>0</td>\n",
              "      <td>2</td>\n",
              "      <td>2</td>\n",
              "      <td>2</td>\n",
              "      <td>1</td>\n",
              "    </tr>\n",
              "    <tr>\n",
              "      <th>4</th>\n",
              "      <td>5105705</td>\n",
              "      <td>0</td>\n",
              "      <td>1</td>\n",
              "      <td>0</td>\n",
              "      <td>0</td>\n",
              "      <td>225000.0</td>\n",
              "      <td>Working</td>\n",
              "      <td>Secondary / secondary special</td>\n",
              "      <td>Married</td>\n",
              "      <td>Municipal apartment</td>\n",
              "      <td>1</td>\n",
              "      <td>0</td>\n",
              "      <td>0</td>\n",
              "      <td>0</td>\n",
              "      <td>2</td>\n",
              "      <td>0</td>\n",
              "      <td>3</td>\n",
              "      <td>1</td>\n",
              "      <td>2</td>\n",
              "      <td>2</td>\n",
              "    </tr>\n",
              "  </tbody>\n",
              "</table>\n",
              "</div>\n",
              "    <div class=\"colab-df-buttons\">\n",
              "\n",
              "  <div class=\"colab-df-container\">\n",
              "    <button class=\"colab-df-convert\" onclick=\"convertToInteractive('df-59db4b2c-29b8-4fbc-b90b-64798ab95ffd')\"\n",
              "            title=\"Convert this dataframe to an interactive table.\"\n",
              "            style=\"display:none;\">\n",
              "\n",
              "  <svg xmlns=\"http://www.w3.org/2000/svg\" height=\"24px\" viewBox=\"0 -960 960 960\">\n",
              "    <path d=\"M120-120v-720h720v720H120Zm60-500h600v-160H180v160Zm220 220h160v-160H400v160Zm0 220h160v-160H400v160ZM180-400h160v-160H180v160Zm440 0h160v-160H620v160ZM180-180h160v-160H180v160Zm440 0h160v-160H620v160Z\"/>\n",
              "  </svg>\n",
              "    </button>\n",
              "\n",
              "  <style>\n",
              "    .colab-df-container {\n",
              "      display:flex;\n",
              "      gap: 12px;\n",
              "    }\n",
              "\n",
              "    .colab-df-convert {\n",
              "      background-color: #E8F0FE;\n",
              "      border: none;\n",
              "      border-radius: 50%;\n",
              "      cursor: pointer;\n",
              "      display: none;\n",
              "      fill: #1967D2;\n",
              "      height: 32px;\n",
              "      padding: 0 0 0 0;\n",
              "      width: 32px;\n",
              "    }\n",
              "\n",
              "    .colab-df-convert:hover {\n",
              "      background-color: #E2EBFA;\n",
              "      box-shadow: 0px 1px 2px rgba(60, 64, 67, 0.3), 0px 1px 3px 1px rgba(60, 64, 67, 0.15);\n",
              "      fill: #174EA6;\n",
              "    }\n",
              "\n",
              "    .colab-df-buttons div {\n",
              "      margin-bottom: 4px;\n",
              "    }\n",
              "\n",
              "    [theme=dark] .colab-df-convert {\n",
              "      background-color: #3B4455;\n",
              "      fill: #D2E3FC;\n",
              "    }\n",
              "\n",
              "    [theme=dark] .colab-df-convert:hover {\n",
              "      background-color: #434B5C;\n",
              "      box-shadow: 0px 1px 3px 1px rgba(0, 0, 0, 0.15);\n",
              "      filter: drop-shadow(0px 1px 2px rgba(0, 0, 0, 0.3));\n",
              "      fill: #FFFFFF;\n",
              "    }\n",
              "  </style>\n",
              "\n",
              "    <script>\n",
              "      const buttonEl =\n",
              "        document.querySelector('#df-59db4b2c-29b8-4fbc-b90b-64798ab95ffd button.colab-df-convert');\n",
              "      buttonEl.style.display =\n",
              "        google.colab.kernel.accessAllowed ? 'block' : 'none';\n",
              "\n",
              "      async function convertToInteractive(key) {\n",
              "        const element = document.querySelector('#df-59db4b2c-29b8-4fbc-b90b-64798ab95ffd');\n",
              "        const dataTable =\n",
              "          await google.colab.kernel.invokeFunction('convertToInteractive',\n",
              "                                                    [key], {});\n",
              "        if (!dataTable) return;\n",
              "\n",
              "        const docLinkHtml = 'Like what you see? Visit the ' +\n",
              "          '<a target=\"_blank\" href=https://colab.research.google.com/notebooks/data_table.ipynb>data table notebook</a>'\n",
              "          + ' to learn more about interactive tables.';\n",
              "        element.innerHTML = '';\n",
              "        dataTable['output_type'] = 'display_data';\n",
              "        await google.colab.output.renderOutput(dataTable, element);\n",
              "        const docLink = document.createElement('div');\n",
              "        docLink.innerHTML = docLinkHtml;\n",
              "        element.appendChild(docLink);\n",
              "      }\n",
              "    </script>\n",
              "  </div>\n",
              "\n",
              "\n",
              "<div id=\"df-186b6457-5342-457a-9cb3-a255d3289893\">\n",
              "  <button class=\"colab-df-quickchart\" onclick=\"quickchart('df-186b6457-5342-457a-9cb3-a255d3289893')\"\n",
              "            title=\"Suggest charts\"\n",
              "            style=\"display:none;\">\n",
              "\n",
              "<svg xmlns=\"http://www.w3.org/2000/svg\" height=\"24px\"viewBox=\"0 0 24 24\"\n",
              "     width=\"24px\">\n",
              "    <g>\n",
              "        <path d=\"M19 3H5c-1.1 0-2 .9-2 2v14c0 1.1.9 2 2 2h14c1.1 0 2-.9 2-2V5c0-1.1-.9-2-2-2zM9 17H7v-7h2v7zm4 0h-2V7h2v10zm4 0h-2v-4h2v4z\"/>\n",
              "    </g>\n",
              "</svg>\n",
              "  </button>\n",
              "\n",
              "<style>\n",
              "  .colab-df-quickchart {\n",
              "      --bg-color: #E8F0FE;\n",
              "      --fill-color: #1967D2;\n",
              "      --hover-bg-color: #E2EBFA;\n",
              "      --hover-fill-color: #174EA6;\n",
              "      --disabled-fill-color: #AAA;\n",
              "      --disabled-bg-color: #DDD;\n",
              "  }\n",
              "\n",
              "  [theme=dark] .colab-df-quickchart {\n",
              "      --bg-color: #3B4455;\n",
              "      --fill-color: #D2E3FC;\n",
              "      --hover-bg-color: #434B5C;\n",
              "      --hover-fill-color: #FFFFFF;\n",
              "      --disabled-bg-color: #3B4455;\n",
              "      --disabled-fill-color: #666;\n",
              "  }\n",
              "\n",
              "  .colab-df-quickchart {\n",
              "    background-color: var(--bg-color);\n",
              "    border: none;\n",
              "    border-radius: 50%;\n",
              "    cursor: pointer;\n",
              "    display: none;\n",
              "    fill: var(--fill-color);\n",
              "    height: 32px;\n",
              "    padding: 0;\n",
              "    width: 32px;\n",
              "  }\n",
              "\n",
              "  .colab-df-quickchart:hover {\n",
              "    background-color: var(--hover-bg-color);\n",
              "    box-shadow: 0 1px 2px rgba(60, 64, 67, 0.3), 0 1px 3px 1px rgba(60, 64, 67, 0.15);\n",
              "    fill: var(--button-hover-fill-color);\n",
              "  }\n",
              "\n",
              "  .colab-df-quickchart-complete:disabled,\n",
              "  .colab-df-quickchart-complete:disabled:hover {\n",
              "    background-color: var(--disabled-bg-color);\n",
              "    fill: var(--disabled-fill-color);\n",
              "    box-shadow: none;\n",
              "  }\n",
              "\n",
              "  .colab-df-spinner {\n",
              "    border: 2px solid var(--fill-color);\n",
              "    border-color: transparent;\n",
              "    border-bottom-color: var(--fill-color);\n",
              "    animation:\n",
              "      spin 1s steps(1) infinite;\n",
              "  }\n",
              "\n",
              "  @keyframes spin {\n",
              "    0% {\n",
              "      border-color: transparent;\n",
              "      border-bottom-color: var(--fill-color);\n",
              "      border-left-color: var(--fill-color);\n",
              "    }\n",
              "    20% {\n",
              "      border-color: transparent;\n",
              "      border-left-color: var(--fill-color);\n",
              "      border-top-color: var(--fill-color);\n",
              "    }\n",
              "    30% {\n",
              "      border-color: transparent;\n",
              "      border-left-color: var(--fill-color);\n",
              "      border-top-color: var(--fill-color);\n",
              "      border-right-color: var(--fill-color);\n",
              "    }\n",
              "    40% {\n",
              "      border-color: transparent;\n",
              "      border-right-color: var(--fill-color);\n",
              "      border-top-color: var(--fill-color);\n",
              "    }\n",
              "    60% {\n",
              "      border-color: transparent;\n",
              "      border-right-color: var(--fill-color);\n",
              "    }\n",
              "    80% {\n",
              "      border-color: transparent;\n",
              "      border-right-color: var(--fill-color);\n",
              "      border-bottom-color: var(--fill-color);\n",
              "    }\n",
              "    90% {\n",
              "      border-color: transparent;\n",
              "      border-bottom-color: var(--fill-color);\n",
              "    }\n",
              "  }\n",
              "</style>\n",
              "\n",
              "  <script>\n",
              "    async function quickchart(key) {\n",
              "      const quickchartButtonEl =\n",
              "        document.querySelector('#' + key + ' button');\n",
              "      quickchartButtonEl.disabled = true;  // To prevent multiple clicks.\n",
              "      quickchartButtonEl.classList.add('colab-df-spinner');\n",
              "      try {\n",
              "        const charts = await google.colab.kernel.invokeFunction(\n",
              "            'suggestCharts', [key], {});\n",
              "      } catch (error) {\n",
              "        console.error('Error during call to suggestCharts:', error);\n",
              "      }\n",
              "      quickchartButtonEl.classList.remove('colab-df-spinner');\n",
              "      quickchartButtonEl.classList.add('colab-df-quickchart-complete');\n",
              "    }\n",
              "    (() => {\n",
              "      let quickchartButtonEl =\n",
              "        document.querySelector('#df-186b6457-5342-457a-9cb3-a255d3289893 button');\n",
              "      quickchartButtonEl.style.display =\n",
              "        google.colab.kernel.accessAllowed ? 'block' : 'none';\n",
              "    })();\n",
              "  </script>\n",
              "</div>\n",
              "\n",
              "    </div>\n",
              "  </div>\n"
            ],
            "application/vnd.google.colaboratory.intrinsic+json": {
              "type": "dataframe",
              "variable_name": "df",
              "summary": "{\n  \"name\": \"df\",\n  \"rows\": 4996,\n  \"fields\": [\n    {\n      \"column\": \"ID\",\n      \"properties\": {\n        \"dtype\": \"number\",\n        \"std\": 42151,\n        \"min\": 5008809,\n        \"max\": 5150487,\n        \"num_unique_values\": 4996,\n        \"samples\": [\n          5069389,\n          5068547,\n          5087972\n        ],\n        \"semantic_type\": \"\",\n        \"description\": \"\"\n      }\n    },\n    {\n      \"column\": \"Gender\",\n      \"properties\": {\n        \"dtype\": \"number\",\n        \"std\": 0,\n        \"min\": 0,\n        \"max\": 1,\n        \"num_unique_values\": 2,\n        \"samples\": [\n          1,\n          0\n        ],\n        \"semantic_type\": \"\",\n        \"description\": \"\"\n      }\n    },\n    {\n      \"column\": \"Has a car\",\n      \"properties\": {\n        \"dtype\": \"number\",\n        \"std\": 0,\n        \"min\": 0,\n        \"max\": 1,\n        \"num_unique_values\": 2,\n        \"samples\": [\n          1,\n          0\n        ],\n        \"semantic_type\": \"\",\n        \"description\": \"\"\n      }\n    },\n    {\n      \"column\": \"Has a property\",\n      \"properties\": {\n        \"dtype\": \"number\",\n        \"std\": 0,\n        \"min\": 0,\n        \"max\": 1,\n        \"num_unique_values\": 2,\n        \"samples\": [\n          0,\n          1\n        ],\n        \"semantic_type\": \"\",\n        \"description\": \"\"\n      }\n    },\n    {\n      \"column\": \"Children count\",\n      \"properties\": {\n        \"dtype\": \"number\",\n        \"std\": 0,\n        \"min\": 0,\n        \"max\": 14,\n        \"num_unique_values\": 7,\n        \"samples\": [\n          0,\n          1\n        ],\n        \"semantic_type\": \"\",\n        \"description\": \"\"\n      }\n    },\n    {\n      \"column\": \"Income\",\n      \"properties\": {\n        \"dtype\": \"number\",\n        \"std\": 105697.98142284896,\n        \"min\": 27000.0,\n        \"max\": 1575000.0,\n        \"num_unique_values\": 151,\n        \"samples\": [\n          162000.0,\n          112500.0\n        ],\n        \"semantic_type\": \"\",\n        \"description\": \"\"\n      }\n    },\n    {\n      \"column\": \"Employment status\",\n      \"properties\": {\n        \"dtype\": \"category\",\n        \"num_unique_values\": 5,\n        \"samples\": [\n          \"Commercial associate\",\n          \"Student\"\n        ],\n        \"semantic_type\": \"\",\n        \"description\": \"\"\n      }\n    },\n    {\n      \"column\": \"Education level\",\n      \"properties\": {\n        \"dtype\": \"category\",\n        \"num_unique_values\": 5,\n        \"samples\": [\n          \"Higher education\",\n          \"Academic degree\"\n        ],\n        \"semantic_type\": \"\",\n        \"description\": \"\"\n      }\n    },\n    {\n      \"column\": \"Marital status\",\n      \"properties\": {\n        \"dtype\": \"category\",\n        \"num_unique_values\": 5,\n        \"samples\": [\n          \"Married\",\n          \"Widow\"\n        ],\n        \"semantic_type\": \"\",\n        \"description\": \"\"\n      }\n    },\n    {\n      \"column\": \"Dwelling\",\n      \"properties\": {\n        \"dtype\": \"category\",\n        \"num_unique_values\": 6,\n        \"samples\": [\n          \"House / apartment\",\n          \"Municipal apartment\"\n        ],\n        \"semantic_type\": \"\",\n        \"description\": \"\"\n      }\n    },\n    {\n      \"column\": \"Has a mobile phone\",\n      \"properties\": {\n        \"dtype\": \"number\",\n        \"std\": 0,\n        \"min\": 1,\n        \"max\": 1,\n        \"num_unique_values\": 1,\n        \"samples\": [\n          1\n        ],\n        \"semantic_type\": \"\",\n        \"description\": \"\"\n      }\n    },\n    {\n      \"column\": \"Has a work phone\",\n      \"properties\": {\n        \"dtype\": \"number\",\n        \"std\": 0,\n        \"min\": 0,\n        \"max\": 1,\n        \"num_unique_values\": 2,\n        \"samples\": [\n          1\n        ],\n        \"semantic_type\": \"\",\n        \"description\": \"\"\n      }\n    },\n    {\n      \"column\": \"Has a phone\",\n      \"properties\": {\n        \"dtype\": \"number\",\n        \"std\": 0,\n        \"min\": 0,\n        \"max\": 1,\n        \"num_unique_values\": 2,\n        \"samples\": [\n          1\n        ],\n        \"semantic_type\": \"\",\n        \"description\": \"\"\n      }\n    },\n    {\n      \"column\": \"Has an email\",\n      \"properties\": {\n        \"dtype\": \"number\",\n        \"std\": 0,\n        \"min\": 0,\n        \"max\": 1,\n        \"num_unique_values\": 2,\n        \"samples\": [\n          1\n        ],\n        \"semantic_type\": \"\",\n        \"description\": \"\"\n      }\n    },\n    {\n      \"column\": \"Family member count\",\n      \"properties\": {\n        \"dtype\": \"number\",\n        \"std\": 0,\n        \"min\": 1,\n        \"max\": 15,\n        \"num_unique_values\": 8,\n        \"samples\": [\n          2\n        ],\n        \"semantic_type\": \"\",\n        \"description\": \"\"\n      }\n    },\n    {\n      \"column\": \"Is high risk\",\n      \"properties\": {\n        \"dtype\": \"number\",\n        \"std\": 0,\n        \"min\": 0,\n        \"max\": 1,\n        \"num_unique_values\": 2,\n        \"samples\": [\n          1\n        ],\n        \"semantic_type\": \"\",\n        \"description\": \"\"\n      }\n    },\n    {\n      \"column\": \"Employment_status_encoded\",\n      \"properties\": {\n        \"dtype\": \"number\",\n        \"std\": 0,\n        \"min\": 1,\n        \"max\": 5,\n        \"num_unique_values\": 5,\n        \"samples\": [\n          2\n        ],\n        \"semantic_type\": \"\",\n        \"description\": \"\"\n      }\n    },\n    {\n      \"column\": \"Education_level_encoded\",\n      \"properties\": {\n        \"dtype\": \"number\",\n        \"std\": 0,\n        \"min\": 1,\n        \"max\": 5,\n        \"num_unique_values\": 5,\n        \"samples\": [\n          2\n        ],\n        \"semantic_type\": \"\",\n        \"description\": \"\"\n      }\n    },\n    {\n      \"column\": \"Marital_status_encoded\",\n      \"properties\": {\n        \"dtype\": \"number\",\n        \"std\": 0,\n        \"min\": 1,\n        \"max\": 5,\n        \"num_unique_values\": 5,\n        \"samples\": [\n          2\n        ],\n        \"semantic_type\": \"\",\n        \"description\": \"\"\n      }\n    },\n    {\n      \"column\": \"Dwelling_encoded\",\n      \"properties\": {\n        \"dtype\": \"number\",\n        \"std\": 0,\n        \"min\": 1,\n        \"max\": 6,\n        \"num_unique_values\": 6,\n        \"samples\": [\n          1\n        ],\n        \"semantic_type\": \"\",\n        \"description\": \"\"\n      }\n    }\n  ]\n}"
            }
          },
          "metadata": {},
          "execution_count": 21
        }
      ],
      "source": [
        "df = pd.read_csv('095_CreditCar.csv')\n",
        "df.head()"
      ]
    },
    {
      "cell_type": "markdown",
      "source": [
        "## Mempersiapkan Fitur dan Target:"
      ],
      "metadata": {
        "id": "d0t016F2PrWF"
      }
    },
    {
      "cell_type": "code",
      "source": [
        "# Splitting features and target\n",
        "x = df.drop(columns=['Is high risk', 'Employment status', 'Education level', 'Marital status', 'Dwelling'])\n",
        "y = df['Is high risk']"
      ],
      "metadata": {
        "id": "W0aksXECL5uo"
      },
      "execution_count": 23,
      "outputs": []
    },
    {
      "cell_type": "markdown",
      "source": [
        "* x = df.drop(columns=['Is high risk']): x berisi semua fitur kecuali kolom target ('Is high risk'), yang merupakan variabel target untuk prediksi.\n",
        "* y = df['Is high risk']: y berisi kolom target, yang merupakan label untuk klasifikasi risiko tinggi."
      ],
      "metadata": {
        "id": "AxInZ74oP7ah"
      }
    },
    {
      "cell_type": "markdown",
      "source": [
        "# Membagi Data Menjadi Set Pelatihan dan Pengujian:"
      ],
      "metadata": {
        "id": "QxAOCz_fQFep"
      }
    },
    {
      "cell_type": "code",
      "source": [
        "# Train-test split\n",
        "x_train, x_test, y_train, y_test = train_test_split(x, y, test_size=0.2, random_state=42, stratify=y)"
      ],
      "metadata": {
        "id": "xI0Zmq9lL7h_"
      },
      "execution_count": 25,
      "outputs": []
    },
    {
      "cell_type": "markdown",
      "source": [
        "train_test_split: Data dibagi menjadi dua bagian, 80% untuk pelatihan dan 20% untuk pengujian. Parameter stratify=y memastikan bahwa distribusi label 'Is high risk' seimbang antara set pelatihan dan pengujian."
      ],
      "metadata": {
        "id": "CVYaPW6RSRhp"
      }
    },
    {
      "cell_type": "markdown",
      "source": [
        "## Membangun Model Sequential"
      ],
      "metadata": {
        "id": "czspZeKcSPJb"
      }
    },
    {
      "cell_type": "code",
      "source": [
        "# Build the Sequential Model\n",
        "model = Sequential([\n",
        "    Dense(64, activation='relu', input_shape=(x_train.shape[1],)),\n",
        "    Dense(32, activation='relu'),\n",
        "    Dense(16, activation='relu'),\n",
        "    Dense(1, activation='sigmoid')  # Binary classification\n",
        "])"
      ],
      "metadata": {
        "id": "sCq5pYt0NjJh"
      },
      "execution_count": 26,
      "outputs": []
    },
    {
      "cell_type": "markdown",
      "source": [
        "## Mengkompilasi Model:"
      ],
      "metadata": {
        "id": "ci17BYQdSbof"
      }
    },
    {
      "cell_type": "code",
      "source": [
        "model.compile(optimizer='adam', loss='binary_crossentropy', metrics=['accuracy'])"
      ],
      "metadata": {
        "id": "66kNTe6cOpdQ"
      },
      "execution_count": 28,
      "outputs": []
    },
    {
      "cell_type": "markdown",
      "source": [
        "Model dikompilasi menggunakan optimizer 'adam' dan loss function binary_crossentropy, yang cocok untuk binary classification. Akurasi digunakan sebagai metrik evaluasi."
      ],
      "metadata": {
        "id": "epgOVbYhS8X0"
      }
    },
    {
      "cell_type": "markdown",
      "source": [
        "## Melatih Model:"
      ],
      "metadata": {
        "id": "w49yqVTZS-NN"
      }
    },
    {
      "cell_type": "code",
      "source": [
        "history = model.fit(x_train, y_train, epochs=20, validation_split=0.2, batch_size=32)"
      ],
      "metadata": {
        "colab": {
          "base_uri": "https://localhost:8080/"
        },
        "id": "mef9yMnnTBWk",
        "outputId": "e04d44fa-5dad-4166-f453-a1f87a1572fb"
      },
      "execution_count": 29,
      "outputs": [
        {
          "output_type": "stream",
          "name": "stdout",
          "text": [
            "Epoch 1/20\n",
            "100/100 [==============================] - 1s 4ms/step - loss: 32141.4043 - accuracy: 0.8977 - val_loss: 2439.0718 - val_accuracy: 0.9837\n",
            "Epoch 2/20\n",
            "100/100 [==============================] - 0s 2ms/step - loss: 1048.3251 - accuracy: 0.9847 - val_loss: 758.4335 - val_accuracy: 0.9837\n",
            "Epoch 3/20\n",
            "100/100 [==============================] - 0s 2ms/step - loss: 550.1214 - accuracy: 0.9847 - val_loss: 431.4497 - val_accuracy: 0.9837\n",
            "Epoch 4/20\n",
            "100/100 [==============================] - 0s 2ms/step - loss: 274.2360 - accuracy: 0.9847 - val_loss: 165.6423 - val_accuracy: 0.9837\n",
            "Epoch 5/20\n",
            "100/100 [==============================] - 0s 2ms/step - loss: 72.6655 - accuracy: 0.9747 - val_loss: 63.6923 - val_accuracy: 0.9837\n",
            "Epoch 6/20\n",
            "100/100 [==============================] - 0s 2ms/step - loss: 38.1647 - accuracy: 0.9747 - val_loss: 12.4174 - val_accuracy: 0.9837\n",
            "Epoch 7/20\n",
            "100/100 [==============================] - 0s 2ms/step - loss: 35.1613 - accuracy: 0.9646 - val_loss: 48.0536 - val_accuracy: 0.9837\n",
            "Epoch 8/20\n",
            "100/100 [==============================] - 0s 2ms/step - loss: 30.9208 - accuracy: 0.9646 - val_loss: 30.1854 - val_accuracy: 0.9837\n",
            "Epoch 9/20\n",
            "100/100 [==============================] - 0s 2ms/step - loss: 31.1982 - accuracy: 0.9753 - val_loss: 33.4406 - val_accuracy: 0.9837\n",
            "Epoch 10/20\n",
            "100/100 [==============================] - 0s 2ms/step - loss: 21.5223 - accuracy: 0.9659 - val_loss: 34.0043 - val_accuracy: 0.9837\n",
            "Epoch 11/20\n",
            "100/100 [==============================] - 0s 2ms/step - loss: 31.5909 - accuracy: 0.9753 - val_loss: 23.0354 - val_accuracy: 0.9837\n",
            "Epoch 12/20\n",
            "100/100 [==============================] - 0s 2ms/step - loss: 20.4115 - accuracy: 0.9653 - val_loss: 47.6534 - val_accuracy: 0.9837\n",
            "Epoch 13/20\n",
            "100/100 [==============================] - 0s 2ms/step - loss: 25.0972 - accuracy: 0.9753 - val_loss: 20.1032 - val_accuracy: 0.9837\n",
            "Epoch 14/20\n",
            "100/100 [==============================] - 0s 2ms/step - loss: 15.5672 - accuracy: 0.9646 - val_loss: 29.7450 - val_accuracy: 0.9837\n",
            "Epoch 15/20\n",
            "100/100 [==============================] - 0s 2ms/step - loss: 19.1307 - accuracy: 0.9747 - val_loss: 10.8887 - val_accuracy: 0.9837\n",
            "Epoch 16/20\n",
            "100/100 [==============================] - 0s 2ms/step - loss: 10.0288 - accuracy: 0.9653 - val_loss: 10.5939 - val_accuracy: 0.9837\n",
            "Epoch 17/20\n",
            "100/100 [==============================] - 0s 3ms/step - loss: 16.5701 - accuracy: 0.9747 - val_loss: 15.1407 - val_accuracy: 0.9837\n",
            "Epoch 18/20\n",
            "100/100 [==============================] - 0s 2ms/step - loss: 11.7119 - accuracy: 0.9646 - val_loss: 22.8135 - val_accuracy: 0.9837\n",
            "Epoch 19/20\n",
            "100/100 [==============================] - 0s 2ms/step - loss: 14.8529 - accuracy: 0.9747 - val_loss: 11.2276 - val_accuracy: 0.9837\n",
            "Epoch 20/20\n",
            "100/100 [==============================] - 0s 2ms/step - loss: 8.6782 - accuracy: 0.9646 - val_loss: 9.1094 - val_accuracy: 0.9837\n"
          ]
        }
      ]
    },
    {
      "cell_type": "markdown",
      "source": [
        "history = model.fit(...): Model dilatih menggunakan data pelatihan selama 20 epochs, dengan batch size 32. Model juga menggunakan 20% data pelatihan sebagai data validasi untuk memantau kinerja selama pelatihan."
      ],
      "metadata": {
        "id": "JUYouoGLT7k1"
      }
    },
    {
      "cell_type": "markdown",
      "source": [
        "## Evaluasi Model:"
      ],
      "metadata": {
        "id": "gMhZ18-0T9Sk"
      }
    },
    {
      "cell_type": "code",
      "source": [
        "# Evaluate the model on test data\n",
        "test_loss, test_accuracy = model.evaluate(x_test, y_test)\n",
        "\n",
        "print(f\"Test Accuracy: {test_accuracy * 100:.2f}%\")"
      ],
      "metadata": {
        "colab": {
          "base_uri": "https://localhost:8080/"
        },
        "id": "kdzq9CV0UB31",
        "outputId": "ae807cfd-a443-45aa-fe07-b98d321c4daa"
      },
      "execution_count": 30,
      "outputs": [
        {
          "output_type": "stream",
          "name": "stdout",
          "text": [
            "32/32 [==============================] - 0s 2ms/step - loss: 8.9910 - accuracy: 0.9840\n",
            "Test Accuracy: 98.40%\n"
          ]
        }
      ]
    },
    {
      "cell_type": "markdown",
      "source": [
        "### Hasil Kinerja\n",
        "- **Loss**: 8.9910\n",
        "- **Akurasi Uji (Test Accuracy)**: 98.40%\n",
        "\n",
        "### Analisis\n",
        "\n",
        "1. **Akurasi yang Tinggi**:\n",
        "   - Akurasi 98.40% pada data uji sangat baik. Ini menunjukkan bahwa model berhasil mengklasifikasikan dengan benar 98.40% dari data uji. Akurasi ini umumnya dianggap sangat tinggi dalam banyak konteks aplikasi, terutama dalam klasifikasi.\n",
        "\n",
        "2. **Kerugian (Loss)**:\n",
        "   - Kerugian sebesar 8.9910 mungkin terlihat tinggi, tetapi perlu diingat bahwa interpretasi dari nilai loss tergantung pada skala dan konteks dari fungsi loss yang digunakan (misalnya, binary crossentropy untuk klasifikasi biner). Yang terpenting adalah bahwa model mampu mencapai akurasi tinggi meskipun nilai kerugian.\n",
        "\n",
        "3. **Generalization**:\n",
        "   - Akurasi tinggi di data uji menunjukkan bahwa model tidak hanya menghafal data pelatihan tetapi juga dapat generalisasi dengan baik terhadap data baru. Ini adalah indikasi bahwa model telah belajar pola yang relevan dalam data.\n",
        "\n",
        "### Kesimpulan\n",
        "\n",
        "- **Baik**: Secara keseluruhan, hasil ini dapat dianggap **baik**. Akurasi 98.40% menunjukkan bahwa model berfungsi dengan baik dalam mengklasifikasikan data, dan ini merupakan indikator yang kuat bahwa model dapat diandalkan dalam situasi dunia nyata.\n",
        "\n",
        "### Rekomendasi\n",
        "\n",
        "- **Monitor Metrik Lain**: Meskipun akurasi tinggi, penting untuk juga memeriksa metrik lain seperti precision, recall, dan F1-score, terutama jika data tidak seimbang.\n",
        "- **Pengujian Lebih Lanjut**: Pertimbangkan untuk melakukan pengujian lebih lanjut dengan dataset yang lebih beragam atau menggunakan teknik cross-validation untuk memastikan model berfungsi baik di berbagai kondisi.\n",
        "- **Evaluasi Keseluruhan**: Jika mungkin, bandingkan hasil ini dengan model lain atau pendekatan yang berbeda untuk mendapatkan perspektif yang lebih luas tentang kinerja model Anda."
      ],
      "metadata": {
        "id": "s3N8_lS_UgBU"
      }
    }
  ]
}